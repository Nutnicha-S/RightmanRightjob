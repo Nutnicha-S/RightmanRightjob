{
 "cells": [
  {
   "cell_type": "code",
   "execution_count": 1,
   "metadata": {},
   "outputs": [],
   "source": [
    "import numpy as np\n",
    "import os\n",
    "import nltk\n",
    "from nltk.tag import pos_tag\n",
    "from nltk.tokenize import word_tokenize\n",
    "from nltk.corpus import stopwords\n",
    "from nltk.corpus import words\n",
    "from nltk.stem.porter import PorterStemmer\n",
    "import pythainlp\n",
    "from pythainlp import word_tokenize\n",
    "from pythainlp.corpus.common import thai_stopwords\n",
    "from pythainlp.corpus import wordnet\n",
    "import re,string,random\n",
    "import pandas as pd\n",
    "from sklearn.feature_extraction.text import TfidfVectorizer\n",
    "from sklearn.metrics.pairwise import cosine_similarity\n",
    "from sklearn.metrics.pairwise import linear_kernel\n",
    "\n",
    "isco = pd.read_csv(\"dataset/ISCOutf.csv\",encoding='utf-8')\n",
    "tfidf = TfidfVectorizer(stop_words=thai_stopwords())\n",
    "\n",
    "#Replace NaN with an empty string \n",
    "isco['Description'] = isco['Description'].fillna('')\n"
   ]
  },
  {
   "cell_type": "code",
   "execution_count": 7,
   "metadata": {},
   "outputs": [
    {
     "name": "stdout",
     "output_type": "stream",
     "text": [
      "[(0, 1.0000000000000004), (1, 0.09741356508683321)]\n",
      "38    ทำหน้าที่ปรับปรุงพัฒนาทฤษฎีและกฎทางสถิติ เพื่อ...\n",
      "76    ทำหน้าที่ศึกษาวิจัย ทำรายงานและวางแผนงาน ในการ...\n",
      "Name: Description, dtype: object\n",
      "  (0, 29)\t0.1549622122865484\n",
      "  (0, 65)\t0.1549622122865484\n",
      "  (0, 10)\t0.1549622122865484\n",
      "  (0, 24)\t0.1549622122865484\n",
      "  (0, 8)\t0.1549622122865484\n",
      "  (0, 42)\t0.1549622122865484\n",
      "  (0, 70)\t0.1549622122865484\n",
      "  (0, 72)\t0.1549622122865484\n",
      "  (0, 25)\t0.1549622122865484\n",
      "  (0, 66)\t0.1549622122865484\n",
      "  (0, 44)\t0.1549622122865484\n",
      "  (0, 30)\t0.1549622122865484\n",
      "  (0, 48)\t0.1549622122865484\n",
      "  (0, 3)\t0.1549622122865484\n",
      "  (0, 59)\t0.22051378065889707\n",
      "  (0, 4)\t0.1549622122865484\n",
      "  (0, 47)\t0.3099244245730968\n",
      "  (0, 6)\t0.1549622122865484\n",
      "  (0, 7)\t0.1549622122865484\n",
      "  (0, 50)\t0.44102756131779414\n",
      "  (0, 0)\t0.1549622122865484\n",
      "  (0, 14)\t0.1549622122865484\n",
      "  (0, 20)\t0.1549622122865484\n",
      "  (0, 49)\t0.1549622122865484\n",
      "  (0, 61)\t0.11025689032944853\n",
      "  :\t:\n",
      "  (1, 2)\t0.137972094459358\n",
      "  (1, 56)\t0.137972094459358\n",
      "  (1, 28)\t0.137972094459358\n",
      "  (1, 55)\t0.137972094459358\n",
      "  (1, 32)\t0.137972094459358\n",
      "  (1, 53)\t0.137972094459358\n",
      "  (1, 35)\t0.137972094459358\n",
      "  (1, 58)\t0.137972094459358\n",
      "  (1, 39)\t0.137972094459358\n",
      "  (1, 62)\t0.275944188918716\n",
      "  (1, 21)\t0.137972094459358\n",
      "  (1, 5)\t0.137972094459358\n",
      "  (1, 36)\t0.137972094459358\n",
      "  (1, 41)\t0.275944188918716\n",
      "  (1, 16)\t0.137972094459358\n",
      "  (1, 57)\t0.275944188918716\n",
      "  (1, 18)\t0.137972094459358\n",
      "  (1, 69)\t0.137972094459358\n",
      "  (1, 26)\t0.137972094459358\n",
      "  (1, 1)\t0.137972094459358\n",
      "  (1, 59)\t0.09816828156273212\n",
      "  (1, 50)\t0.09816828156273212\n",
      "  (1, 61)\t0.09816828156273212\n",
      "  (1, 54)\t0.09816828156273212\n",
      "  (1, 27)\t0.09816828156273212\n",
      "(2, 73)\n",
      "[[1.         0.09741357]\n",
      " [0.09741357 1.        ]]\n"
     ]
    },
    {
     "data": {
      "text/plain": [
       "38          นักสถิติ\n",
       "76    นักเศรษฐศาสตร์\n",
       "Name: Name, dtype: object"
      ]
     },
     "execution_count": 7,
     "metadata": {},
     "output_type": "execute_result"
    }
   ],
   "source": [
    "def get_recommendations(name):\n",
    "\n",
    "    # Get the index of the name that matches the data\n",
    "    #idx = mapping[name]\n",
    "    filter = isco.loc[isco['Description'].str.contains(name, case=False)]\n",
    "    #Output the shape of tfidf_matrix\n",
    "    isco_matrix = tfidf.fit_transform(filter['Description'])\n",
    "    i = isco_matrix.shape\n",
    "    similarity_matrix = linear_kernel(isco_matrix,isco_matrix)\n",
    "    \n",
    "    # Get the pairwsie similarity scores of all data\n",
    "    sim_scores = list(enumerate(similarity_matrix[0]))\n",
    "    print(sim_scores)\n",
    "\n",
    "    # Sort the data based on the similarity scores\n",
    "    sim_scores = sorted(sim_scores, key=lambda x: x[1], reverse=True)\n",
    "\n",
    "    # Get the scores of the 10 most similar data\n",
    "    sim_scores = sim_scores[0:10]\n",
    "\n",
    "    # Get the data indices\n",
    "    data = [i[0] for i in sim_scores]\n",
    "    print(filter['Description'])\n",
    "    print(isco_matrix)\n",
    "    print(i)\n",
    "    print(similarity_matrix)\n",
    "    # Return the top 10 most similar data\n",
    "    return (filter['Name'].iloc[data])\n",
    "\n",
    "get_recommendations('วิเคราะห์ข้อมูล')"
   ]
  }
 ],
 "metadata": {
  "interpreter": {
   "hash": "7f083f7a60afe5cba9ff7d6c66a180d4e9b348b72cca0e19ec1d1c57d82ed1a9"
  },
  "kernelspec": {
   "display_name": "Python 3.8.0 ('jobenv': venv)",
   "language": "python",
   "name": "python3"
  },
  "language_info": {
   "codemirror_mode": {
    "name": "ipython",
    "version": 3
   },
   "file_extension": ".py",
   "mimetype": "text/x-python",
   "name": "python",
   "nbconvert_exporter": "python",
   "pygments_lexer": "ipython3",
   "version": "3.8.0"
  },
  "orig_nbformat": 4
 },
 "nbformat": 4,
 "nbformat_minor": 2
}
