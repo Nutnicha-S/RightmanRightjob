{
 "cells": [
  {
   "cell_type": "code",
   "execution_count": 85,
   "metadata": {},
   "outputs": [],
   "source": [
    "import numpy as np\n",
    "import os\n",
    "import nltk\n",
    "from nltk.tag import pos_tag\n",
    "from nltk.tokenize import word_tokenize\n",
    "from nltk.corpus import stopwords\n",
    "from nltk.corpus import words\n",
    "from nltk.stem.porter import PorterStemmer\n",
    "import pythainlp\n",
    "from pythainlp import word_tokenize\n",
    "from pythainlp.corpus.common import thai_stopwords\n",
    "from pythainlp.corpus import wordnet\n",
    "import re,string,random\n",
    "import pandas as pd\n",
    "from sklearn.feature_extraction.text import TfidfVectorizer\n",
    "from sklearn.metrics.pairwise import cosine_similarity\n",
    "from sklearn.metrics.pairwise import linear_kernel\n",
    "\n",
    "isco = pd.read_csv(\"dataset/ISCOutf.csv\",encoding='utf-8')\n",
    "tfidf = TfidfVectorizer(stop_words=thai_stopwords())\n",
    "\n",
    "#Replace NaN with an empty string \n",
    "isco['Description'] = isco['Description'].fillna('')\n"
   ]
  },
  {
   "cell_type": "code",
   "execution_count": 86,
   "metadata": {},
   "outputs": [
    {
     "data": {
      "text/plain": [
       "38          นักสถิติ\n",
       "76    นักเศรษฐศาสตร์\n",
       "Name: Name, dtype: object"
      ]
     },
     "execution_count": 86,
     "metadata": {},
     "output_type": "execute_result"
    }
   ],
   "source": [
    "def get_recommendations(name):\n",
    "\n",
    "    # Get the index of the name that matches the data\n",
    "    #idx = mapping[name]\n",
    "    filter = isco.loc[isco['Description'].str.contains(name, case=False)]\n",
    "    #Output the shape of tfidf_matrix\n",
    "    isco_matrix = tfidf.fit_transform(filter['Description'])\n",
    "    #isco_matrix.shape\n",
    "    similarity_matrix = linear_kernel(isco_matrix,isco_matrix)\n",
    "    \n",
    "    # Get the pairwsie similarity scores of all data\n",
    "    sim_scores = list(enumerate(similarity_matrix[0]))\n",
    "\n",
    "    # Sort the data based on the similarity scores\n",
    "    sim_scores = sorted(sim_scores, key=lambda x: x[1], reverse=True)\n",
    "\n",
    "    # Get the scores of the 10 most similar data\n",
    "    sim_scores = sim_scores[0:10]\n",
    "\n",
    "    # Get the data indices\n",
    "    data = [i[0] for i in sim_scores]\n",
    "\n",
    "    # Return the top 10 most similar data\n",
    "    return (filter['Name'].iloc[data])\n",
    "\n",
    "get_recommendations('วิเคราะห์ข้อมูล')"
   ]
  }
 ],
 "metadata": {
  "interpreter": {
   "hash": "7f083f7a60afe5cba9ff7d6c66a180d4e9b348b72cca0e19ec1d1c57d82ed1a9"
  },
  "kernelspec": {
   "display_name": "Python 3.8.0 ('jobenv': venv)",
   "language": "python",
   "name": "python3"
  },
  "language_info": {
   "codemirror_mode": {
    "name": "ipython",
    "version": 3
   },
   "file_extension": ".py",
   "mimetype": "text/x-python",
   "name": "python",
   "nbconvert_exporter": "python",
   "pygments_lexer": "ipython3",
   "version": "3.8.0"
  },
  "orig_nbformat": 4
 },
 "nbformat": 4,
 "nbformat_minor": 2
}
